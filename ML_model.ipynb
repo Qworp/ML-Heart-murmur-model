{
  "nbformat": 4,
  "nbformat_minor": 0,
  "metadata": {
    "colab": {
      "name": "ML model.ipynb",
      "provenance": [],
      "include_colab_link": true
    },
    "kernelspec": {
      "name": "python3",
      "display_name": "Python 3"
    }
  },
  "cells": [
    {
      "cell_type": "markdown",
      "metadata": {
        "id": "view-in-github",
        "colab_type": "text"
      },
      "source": [
        "<a href=\"https://colab.research.google.com/github/Qworp/ML-Heart-murmur-model/blob/master/ML_model.ipynb\" target=\"_parent\"><img src=\"https://colab.research.google.com/assets/colab-badge.svg\" alt=\"Open In Colab\"/></a>"
      ]
    },
    {
      "cell_type": "code",
      "metadata": {
        "id": "Uyp7nznC31-V",
        "colab_type": "code",
        "colab": {
          "base_uri": "https://localhost:8080/",
          "height": 80
        },
        "outputId": "878be4fa-5c60-4362-b367-4015277ddcbc"
      },
      "source": [
        "# Pandas\n",
        "import pandas as pd\n",
        "\n",
        "# Scikit learn\n",
        "from sklearn.model_selection import train_test_split\n",
        "from sklearn.metrics import classification_report, accuracy_score, confusion_matrix\n",
        "from sklearn.preprocessing import LabelEncoder\n",
        "from sklearn.utils import shuffle\n",
        "from sklearn.utils import class_weight\n",
        "\n",
        "# Keras\n",
        "from keras.models import Sequential\n",
        "from keras.layers import Dense, Dropout, Activation, Flatten\n",
        "from keras.layers import Convolution2D, Conv2D, MaxPooling2D, GlobalAveragePooling2D\n",
        "from keras.utils import to_categorical\n",
        "\n",
        "# Audio\n",
        "import librosa\n",
        "import librosa.display\n",
        "# Plot\n",
        "import matplotlib.pyplot as plt\n",
        "\n",
        "# Utility\n",
        "import os\n",
        "import glob\n",
        "import numpy as np\n",
        "from tqdm import tqdm\n",
        "import itertools"
      ],
      "execution_count": 1,
      "outputs": [
        {
          "output_type": "stream",
          "text": [
            "Using TensorFlow backend.\n"
          ],
          "name": "stderr"
        },
        {
          "output_type": "display_data",
          "data": {
            "text/html": [
              "<p style=\"color: red;\">\n",
              "The default version of TensorFlow in Colab will soon switch to TensorFlow 2.x.<br>\n",
              "We recommend you <a href=\"https://www.tensorflow.org/guide/migrate\" target=\"_blank\">upgrade</a> now \n",
              "or ensure your notebook will continue to use TensorFlow 1.x via the <code>%tensorflow_version 1.x</code> magic:\n",
              "<a href=\"https://colab.research.google.com/notebooks/tensorflow_version.ipynb\" target=\"_blank\">more info</a>.</p>\n"
            ],
            "text/plain": [
              "<IPython.core.display.HTML object>"
            ]
          },
          "metadata": {
            "tags": []
          }
        }
      ]
    },
    {
      "cell_type": "code",
      "metadata": {
        "id": "KlAPJ_PV5dY6",
        "colab_type": "code",
        "colab": {
          "resources": {
            "http://localhost:8080/nbextensions/google.colab/files.js": {
              "data": "Ly8gQ29weXJpZ2h0IDIwMTcgR29vZ2xlIExMQwovLwovLyBMaWNlbnNlZCB1bmRlciB0aGUgQXBhY2hlIExpY2Vuc2UsIFZlcnNpb24gMi4wICh0aGUgIkxpY2Vuc2UiKTsKLy8geW91IG1heSBub3QgdXNlIHRoaXMgZmlsZSBleGNlcHQgaW4gY29tcGxpYW5jZSB3aXRoIHRoZSBMaWNlbnNlLgovLyBZb3UgbWF5IG9idGFpbiBhIGNvcHkgb2YgdGhlIExpY2Vuc2UgYXQKLy8KLy8gICAgICBodHRwOi8vd3d3LmFwYWNoZS5vcmcvbGljZW5zZXMvTElDRU5TRS0yLjAKLy8KLy8gVW5sZXNzIHJlcXVpcmVkIGJ5IGFwcGxpY2FibGUgbGF3IG9yIGFncmVlZCB0byBpbiB3cml0aW5nLCBzb2Z0d2FyZQovLyBkaXN0cmlidXRlZCB1bmRlciB0aGUgTGljZW5zZSBpcyBkaXN0cmlidXRlZCBvbiBhbiAiQVMgSVMiIEJBU0lTLAovLyBXSVRIT1VUIFdBUlJBTlRJRVMgT1IgQ09ORElUSU9OUyBPRiBBTlkgS0lORCwgZWl0aGVyIGV4cHJlc3Mgb3IgaW1wbGllZC4KLy8gU2VlIHRoZSBMaWNlbnNlIGZvciB0aGUgc3BlY2lmaWMgbGFuZ3VhZ2UgZ292ZXJuaW5nIHBlcm1pc3Npb25zIGFuZAovLyBsaW1pdGF0aW9ucyB1bmRlciB0aGUgTGljZW5zZS4KCi8qKgogKiBAZmlsZW92ZXJ2aWV3IEhlbHBlcnMgZm9yIGdvb2dsZS5jb2xhYiBQeXRob24gbW9kdWxlLgogKi8KKGZ1bmN0aW9uKHNjb3BlKSB7CmZ1bmN0aW9uIHNwYW4odGV4dCwgc3R5bGVBdHRyaWJ1dGVzID0ge30pIHsKICBjb25zdCBlbGVtZW50ID0gZG9jdW1lbnQuY3JlYXRlRWxlbWVudCgnc3BhbicpOwogIGVsZW1lbnQudGV4dENvbnRlbnQgPSB0ZXh0OwogIGZvciAoY29uc3Qga2V5IG9mIE9iamVjdC5rZXlzKHN0eWxlQXR0cmlidXRlcykpIHsKICAgIGVsZW1lbnQuc3R5bGVba2V5XSA9IHN0eWxlQXR0cmlidXRlc1trZXldOwogIH0KICByZXR1cm4gZWxlbWVudDsKfQoKLy8gTWF4IG51bWJlciBvZiBieXRlcyB3aGljaCB3aWxsIGJlIHVwbG9hZGVkIGF0IGEgdGltZS4KY29uc3QgTUFYX1BBWUxPQURfU0laRSA9IDEwMCAqIDEwMjQ7Ci8vIE1heCBhbW91bnQgb2YgdGltZSB0byBibG9jayB3YWl0aW5nIGZvciB0aGUgdXNlci4KY29uc3QgRklMRV9DSEFOR0VfVElNRU9VVF9NUyA9IDMwICogMTAwMDsKCmZ1bmN0aW9uIF91cGxvYWRGaWxlcyhpbnB1dElkLCBvdXRwdXRJZCkgewogIGNvbnN0IHN0ZXBzID0gdXBsb2FkRmlsZXNTdGVwKGlucHV0SWQsIG91dHB1dElkKTsKICBjb25zdCBvdXRwdXRFbGVtZW50ID0gZG9jdW1lbnQuZ2V0RWxlbWVudEJ5SWQob3V0cHV0SWQpOwogIC8vIENhY2hlIHN0ZXBzIG9uIHRoZSBvdXRwdXRFbGVtZW50IHRvIG1ha2UgaXQgYXZhaWxhYmxlIGZvciB0aGUgbmV4dCBjYWxsCiAgLy8gdG8gdXBsb2FkRmlsZXNDb250aW51ZSBmcm9tIFB5dGhvbi4KICBvdXRwdXRFbGVtZW50LnN0ZXBzID0gc3RlcHM7CgogIHJldHVybiBfdXBsb2FkRmlsZXNDb250aW51ZShvdXRwdXRJZCk7Cn0KCi8vIFRoaXMgaXMgcm91Z2hseSBhbiBhc3luYyBnZW5lcmF0b3IgKG5vdCBzdXBwb3J0ZWQgaW4gdGhlIGJyb3dzZXIgeWV0KSwKLy8gd2hlcmUgdGhlcmUgYXJlIG11bHRpcGxlIGFzeW5jaHJvbm91cyBzdGVwcyBhbmQgdGhlIFB5dGhvbiBzaWRlIGlzIGdvaW5nCi8vIHRvIHBvbGwgZm9yIGNvbXBsZXRpb24gb2YgZWFjaCBzdGVwLgovLyBUaGlzIHVzZXMgYSBQcm9taXNlIHRvIGJsb2NrIHRoZSBweXRob24gc2lkZSBvbiBjb21wbGV0aW9uIG9mIGVhY2ggc3RlcCwKLy8gdGhlbiBwYXNzZXMgdGhlIHJlc3VsdCBvZiB0aGUgcHJldmlvdXMgc3RlcCBhcyB0aGUgaW5wdXQgdG8gdGhlIG5leHQgc3RlcC4KZnVuY3Rpb24gX3VwbG9hZEZpbGVzQ29udGludWUob3V0cHV0SWQpIHsKICBjb25zdCBvdXRwdXRFbGVtZW50ID0gZG9jdW1lbnQuZ2V0RWxlbWVudEJ5SWQob3V0cHV0SWQpOwogIGNvbnN0IHN0ZXBzID0gb3V0cHV0RWxlbWVudC5zdGVwczsKCiAgY29uc3QgbmV4dCA9IHN0ZXBzLm5leHQob3V0cHV0RWxlbWVudC5sYXN0UHJvbWlzZVZhbHVlKTsKICByZXR1cm4gUHJvbWlzZS5yZXNvbHZlKG5leHQudmFsdWUucHJvbWlzZSkudGhlbigodmFsdWUpID0+IHsKICAgIC8vIENhY2hlIHRoZSBsYXN0IHByb21pc2UgdmFsdWUgdG8gbWFrZSBpdCBhdmFpbGFibGUgdG8gdGhlIG5leHQKICAgIC8vIHN0ZXAgb2YgdGhlIGdlbmVyYXRvci4KICAgIG91dHB1dEVsZW1lbnQubGFzdFByb21pc2VWYWx1ZSA9IHZhbHVlOwogICAgcmV0dXJuIG5leHQudmFsdWUucmVzcG9uc2U7CiAgfSk7Cn0KCi8qKgogKiBHZW5lcmF0b3IgZnVuY3Rpb24gd2hpY2ggaXMgY2FsbGVkIGJldHdlZW4gZWFjaCBhc3luYyBzdGVwIG9mIHRoZSB1cGxvYWQKICogcHJvY2Vzcy4KICogQHBhcmFtIHtzdHJpbmd9IGlucHV0SWQgRWxlbWVudCBJRCBvZiB0aGUgaW5wdXQgZmlsZSBwaWNrZXIgZWxlbWVudC4KICogQHBhcmFtIHtzdHJpbmd9IG91dHB1dElkIEVsZW1lbnQgSUQgb2YgdGhlIG91dHB1dCBkaXNwbGF5LgogKiBAcmV0dXJuIHshSXRlcmFibGU8IU9iamVjdD59IEl0ZXJhYmxlIG9mIG5leHQgc3RlcHMuCiAqLwpmdW5jdGlvbiogdXBsb2FkRmlsZXNTdGVwKGlucHV0SWQsIG91dHB1dElkKSB7CiAgY29uc3QgaW5wdXRFbGVtZW50ID0gZG9jdW1lbnQuZ2V0RWxlbWVudEJ5SWQoaW5wdXRJZCk7CiAgaW5wdXRFbGVtZW50LmRpc2FibGVkID0gZmFsc2U7CgogIGNvbnN0IG91dHB1dEVsZW1lbnQgPSBkb2N1bWVudC5nZXRFbGVtZW50QnlJZChvdXRwdXRJZCk7CiAgb3V0cHV0RWxlbWVudC5pbm5lckhUTUwgPSAnJzsKCiAgY29uc3QgcGlja2VkUHJvbWlzZSA9IG5ldyBQcm9taXNlKChyZXNvbHZlKSA9PiB7CiAgICBpbnB1dEVsZW1lbnQuYWRkRXZlbnRMaXN0ZW5lcignY2hhbmdlJywgKGUpID0+IHsKICAgICAgcmVzb2x2ZShlLnRhcmdldC5maWxlcyk7CiAgICB9KTsKICB9KTsKCiAgY29uc3QgY2FuY2VsID0gZG9jdW1lbnQuY3JlYXRlRWxlbWVudCgnYnV0dG9uJyk7CiAgaW5wdXRFbGVtZW50LnBhcmVudEVsZW1lbnQuYXBwZW5kQ2hpbGQoY2FuY2VsKTsKICBjYW5jZWwudGV4dENvbnRlbnQgPSAnQ2FuY2VsIHVwbG9hZCc7CiAgY29uc3QgY2FuY2VsUHJvbWlzZSA9IG5ldyBQcm9taXNlKChyZXNvbHZlKSA9PiB7CiAgICBjYW5jZWwub25jbGljayA9ICgpID0+IHsKICAgICAgcmVzb2x2ZShudWxsKTsKICAgIH07CiAgfSk7CgogIC8vIENhbmNlbCB1cGxvYWQgaWYgdXNlciBoYXNuJ3QgcGlja2VkIGFueXRoaW5nIGluIHRpbWVvdXQuCiAgY29uc3QgdGltZW91dFByb21pc2UgPSBuZXcgUHJvbWlzZSgocmVzb2x2ZSkgPT4gewogICAgc2V0VGltZW91dCgoKSA9PiB7CiAgICAgIHJlc29sdmUobnVsbCk7CiAgICB9LCBGSUxFX0NIQU5HRV9USU1FT1VUX01TKTsKICB9KTsKCiAgLy8gV2FpdCBmb3IgdGhlIHVzZXIgdG8gcGljayB0aGUgZmlsZXMuCiAgY29uc3QgZmlsZXMgPSB5aWVsZCB7CiAgICBwcm9taXNlOiBQcm9taXNlLnJhY2UoW3BpY2tlZFByb21pc2UsIHRpbWVvdXRQcm9taXNlLCBjYW5jZWxQcm9taXNlXSksCiAgICByZXNwb25zZTogewogICAgICBhY3Rpb246ICdzdGFydGluZycsCiAgICB9CiAgfTsKCiAgaWYgKCFmaWxlcykgewogICAgcmV0dXJuIHsKICAgICAgcmVzcG9uc2U6IHsKICAgICAgICBhY3Rpb246ICdjb21wbGV0ZScsCiAgICAgIH0KICAgIH07CiAgfQoKICBjYW5jZWwucmVtb3ZlKCk7CgogIC8vIERpc2FibGUgdGhlIGlucHV0IGVsZW1lbnQgc2luY2UgZnVydGhlciBwaWNrcyBhcmUgbm90IGFsbG93ZWQuCiAgaW5wdXRFbGVtZW50LmRpc2FibGVkID0gdHJ1ZTsKCiAgZm9yIChjb25zdCBmaWxlIG9mIGZpbGVzKSB7CiAgICBjb25zdCBsaSA9IGRvY3VtZW50LmNyZWF0ZUVsZW1lbnQoJ2xpJyk7CiAgICBsaS5hcHBlbmQoc3BhbihmaWxlLm5hbWUsIHtmb250V2VpZ2h0OiAnYm9sZCd9KSk7CiAgICBsaS5hcHBlbmQoc3BhbigKICAgICAgICBgKCR7ZmlsZS50eXBlIHx8ICduL2EnfSkgLSAke2ZpbGUuc2l6ZX0gYnl0ZXMsIGAgKwogICAgICAgIGBsYXN0IG1vZGlmaWVkOiAkewogICAgICAgICAgICBmaWxlLmxhc3RNb2RpZmllZERhdGUgPyBmaWxlLmxhc3RNb2RpZmllZERhdGUudG9Mb2NhbGVEYXRlU3RyaW5nKCkgOgogICAgICAgICAgICAgICAgICAgICAgICAgICAgICAgICAgICAnbi9hJ30gLSBgKSk7CiAgICBjb25zdCBwZXJjZW50ID0gc3BhbignMCUgZG9uZScpOwogICAgbGkuYXBwZW5kQ2hpbGQocGVyY2VudCk7CgogICAgb3V0cHV0RWxlbWVudC5hcHBlbmRDaGlsZChsaSk7CgogICAgY29uc3QgZmlsZURhdGFQcm9taXNlID0gbmV3IFByb21pc2UoKHJlc29sdmUpID0+IHsKICAgICAgY29uc3QgcmVhZGVyID0gbmV3IEZpbGVSZWFkZXIoKTsKICAgICAgcmVhZGVyLm9ubG9hZCA9IChlKSA9PiB7CiAgICAgICAgcmVzb2x2ZShlLnRhcmdldC5yZXN1bHQpOwogICAgICB9OwogICAgICByZWFkZXIucmVhZEFzQXJyYXlCdWZmZXIoZmlsZSk7CiAgICB9KTsKICAgIC8vIFdhaXQgZm9yIHRoZSBkYXRhIHRvIGJlIHJlYWR5LgogICAgbGV0IGZpbGVEYXRhID0geWllbGQgewogICAgICBwcm9taXNlOiBmaWxlRGF0YVByb21pc2UsCiAgICAgIHJlc3BvbnNlOiB7CiAgICAgICAgYWN0aW9uOiAnY29udGludWUnLAogICAgICB9CiAgICB9OwoKICAgIC8vIFVzZSBhIGNodW5rZWQgc2VuZGluZyB0byBhdm9pZCBtZXNzYWdlIHNpemUgbGltaXRzLiBTZWUgYi82MjExNTY2MC4KICAgIGxldCBwb3NpdGlvbiA9IDA7CiAgICB3aGlsZSAocG9zaXRpb24gPCBmaWxlRGF0YS5ieXRlTGVuZ3RoKSB7CiAgICAgIGNvbnN0IGxlbmd0aCA9IE1hdGgubWluKGZpbGVEYXRhLmJ5dGVMZW5ndGggLSBwb3NpdGlvbiwgTUFYX1BBWUxPQURfU0laRSk7CiAgICAgIGNvbnN0IGNodW5rID0gbmV3IFVpbnQ4QXJyYXkoZmlsZURhdGEsIHBvc2l0aW9uLCBsZW5ndGgpOwogICAgICBwb3NpdGlvbiArPSBsZW5ndGg7CgogICAgICBjb25zdCBiYXNlNjQgPSBidG9hKFN0cmluZy5mcm9tQ2hhckNvZGUuYXBwbHkobnVsbCwgY2h1bmspKTsKICAgICAgeWllbGQgewogICAgICAgIHJlc3BvbnNlOiB7CiAgICAgICAgICBhY3Rpb246ICdhcHBlbmQnLAogICAgICAgICAgZmlsZTogZmlsZS5uYW1lLAogICAgICAgICAgZGF0YTogYmFzZTY0LAogICAgICAgIH0sCiAgICAgIH07CiAgICAgIHBlcmNlbnQudGV4dENvbnRlbnQgPQogICAgICAgICAgYCR7TWF0aC5yb3VuZCgocG9zaXRpb24gLyBmaWxlRGF0YS5ieXRlTGVuZ3RoKSAqIDEwMCl9JSBkb25lYDsKICAgIH0KICB9CgogIC8vIEFsbCBkb25lLgogIHlpZWxkIHsKICAgIHJlc3BvbnNlOiB7CiAgICAgIGFjdGlvbjogJ2NvbXBsZXRlJywKICAgIH0KICB9Owp9CgpzY29wZS5nb29nbGUgPSBzY29wZS5nb29nbGUgfHwge307CnNjb3BlLmdvb2dsZS5jb2xhYiA9IHNjb3BlLmdvb2dsZS5jb2xhYiB8fCB7fTsKc2NvcGUuZ29vZ2xlLmNvbGFiLl9maWxlcyA9IHsKICBfdXBsb2FkRmlsZXMsCiAgX3VwbG9hZEZpbGVzQ29udGludWUsCn07Cn0pKHNlbGYpOwo=",
              "ok": true,
              "headers": [
                [
                  "content-type",
                  "application/javascript"
                ]
              ],
              "status": 200,
              "status_text": ""
            }
          },
          "base_uri": "https://localhost:8080/",
          "height": 1000
        },
        "outputId": "373c328f-72fe-419d-af14-20728a63c407"
      },
      "source": [
        "from google.colab import files\n",
        "uploaded = files.upload()"
      ],
      "execution_count": 8,
      "outputs": [
        {
          "output_type": "display_data",
          "data": {
            "text/html": [
              "\n",
              "     <input type=\"file\" id=\"files-3a38b055-8153-47ce-8911-864e3160b9d8\" name=\"files[]\" multiple disabled />\n",
              "     <output id=\"result-3a38b055-8153-47ce-8911-864e3160b9d8\">\n",
              "      Upload widget is only available when the cell has been executed in the\n",
              "      current browser session. Please rerun this cell to enable.\n",
              "      </output>\n",
              "      <script src=\"/nbextensions/google.colab/files.js\"></script> "
            ],
            "text/plain": [
              "<IPython.core.display.HTML object>"
            ]
          },
          "metadata": {
            "tags": []
          }
        },
        {
          "output_type": "stream",
          "text": [
            "Saving artifact__201012172012.wav to artifact__201012172012.wav\n",
            "Saving artifact__201105040918.wav to artifact__201105040918.wav\n",
            "Saving artifact__201105041959.wav to artifact__201105041959.wav\n",
            "Saving artifact__201105060108.wav to artifact__201105060108.wav\n",
            "Saving artifact__201105061143.wav to artifact__201105061143.wav\n",
            "Saving artifact__201105190800.wav to artifact__201105190800.wav\n",
            "Saving artifact__201105280851.wav to artifact__201105280851.wav\n",
            "Saving artifact__201106010559.wav to artifact__201106010559.wav\n",
            "Saving artifact__201106010602.wav to artifact__201106010602.wav\n",
            "Saving artifact__201106021541.wav to artifact__201106021541.wav\n",
            "Saving artifact__201106030612.wav to artifact__201106030612.wav\n",
            "Saving artifact__201106031558.wav to artifact__201106031558.wav\n",
            "Saving artifact__201106040722.wav to artifact__201106040722.wav\n",
            "Saving artifact__201106040933.wav to artifact__201106040933.wav\n",
            "Saving artifact__201106040947.wav to artifact__201106040947.wav\n",
            "Saving artifact__201106041452.wav to artifact__201106041452.wav\n",
            "Saving artifact__201106050353.wav to artifact__201106050353.wav\n",
            "Saving artifact__201106061233.wav to artifact__201106061233.wav\n",
            "Saving artifact__201106070537.wav to artifact__201106070537.wav\n",
            "Saving artifact__201106070949.wav to artifact__201106070949.wav\n",
            "Saving artifact__201106101314.wav to artifact__201106101314.wav\n",
            "Saving artifact__201106101955.wav to artifact__201106101955.wav\n",
            "Saving artifact__201106110909.wav to artifact__201106110909.wav\n",
            "Saving artifact__201106111119.wav to artifact__201106111119.wav\n",
            "Saving artifact__201106121242.wav to artifact__201106121242.wav\n",
            "Saving artifact__201106121445.wav to artifact__201106121445.wav\n",
            "Saving artifact__201106131834.wav to artifact__201106131834.wav\n",
            "Saving artifact__201106131835.wav to artifact__201106131835.wav\n",
            "Saving artifact__201106141701.wav to artifact__201106141701.wav\n",
            "Saving artifact__201106161016.wav to artifact__201106161016.wav\n",
            "Saving artifact__201106161019.wav to artifact__201106161019.wav\n",
            "Saving artifact__201106161219.wav to artifact__201106161219.wav\n",
            "Saving artifact__201106171003.wav to artifact__201106171003.wav\n",
            "Saving artifact__201106190520.wav to artifact__201106190520.wav\n",
            "Saving artifact__201106211041.wav to artifact__201106211041.wav\n",
            "Saving artifact__201106211430.wav to artifact__201106211430.wav\n",
            "Saving artifact__201106212112.wav to artifact__201106212112.wav\n",
            "Saving artifact__201106220340.wav to artifact__201106220340.wav\n",
            "Saving artifact__201106221254.wav to artifact__201106221254.wav\n",
            "Saving Aunlabelledtest__2011040239.wav to Aunlabelledtest__2011040239.wav\n",
            "Saving Aunlabelledtest__20110501548.wav to Aunlabelledtest__20110501548.wav\n",
            "Saving Aunlabelledtest__201012172010.wav to Aunlabelledtest__201012172010.wav\n",
            "Saving Aunlabelledtest__201101051105.wav to Aunlabelledtest__201101051105.wav\n",
            "Saving Aunlabelledtest__201101061552.wav to Aunlabelledtest__201101061552.wav\n",
            "Saving Aunlabelledtest__201101091156.wav to Aunlabelledtest__201101091156.wav\n",
            "Saving Aunlabelledtest__201101110659.wav to Aunlabelledtest__201101110659.wav\n",
            "Saving Aunlabelledtest__201101152256.wav to Aunlabelledtest__201101152256.wav\n",
            "Saving Aunlabelledtest__201101220549.wav to Aunlabelledtest__201101220549.wav\n",
            "Saving Aunlabelledtest__201101241434.wav to Aunlabelledtest__201101241434.wav\n",
            "Saving Aunlabelledtest__201102081033.wav to Aunlabelledtest__201102081033.wav\n",
            "Saving Aunlabelledtest__201102081045.wav to Aunlabelledtest__201102081045.wav\n",
            "Saving Aunlabelledtest__201102200848.wav to Aunlabelledtest__201102200848.wav\n",
            "Saving Aunlabelledtest__201103011036.wav to Aunlabelledtest__201103011036.wav\n",
            "Saving Aunlabelledtest__201103140236.wav to Aunlabelledtest__201103140236.wav\n",
            "Saving Aunlabelledtest__201103170122.wav to Aunlabelledtest__201103170122.wav\n",
            "Saving Aunlabelledtest__201103200518.wav to Aunlabelledtest__201103200518.wav\n",
            "Saving Aunlabelledtest__201103201314.wav to Aunlabelledtest__201103201314.wav\n",
            "Saving Aunlabelledtest__201103232251.wav to Aunlabelledtest__201103232251.wav\n",
            "Saving Aunlabelledtest__201103241336.wav to Aunlabelledtest__201103241336.wav\n",
            "Saving Aunlabelledtest__201104012144.wav to Aunlabelledtest__201104012144.wav\n",
            "Saving Aunlabelledtest__201105011546.wav to Aunlabelledtest__201105011546.wav\n",
            "Saving Aunlabelledtest__201105031730.wav to Aunlabelledtest__201105031730.wav\n",
            "Saving Aunlabelledtest__201106010807.wav to Aunlabelledtest__201106010807.wav\n",
            "Saving Aunlabelledtest__201106030607.wav to Aunlabelledtest__201106030607.wav\n",
            "Saving Aunlabelledtest__201106031556.wav to Aunlabelledtest__201106031556.wav\n",
            "Saving Aunlabelledtest__201106040930.wav to Aunlabelledtest__201106040930.wav\n",
            "Saving Aunlabelledtest__201106061104.wav to Aunlabelledtest__201106061104.wav\n",
            "Saving Aunlabelledtest__201106061215.wav to Aunlabelledtest__201106061215.wav\n",
            "Saving Aunlabelledtest__201106100606.wav to Aunlabelledtest__201106100606.wav\n",
            "Saving Aunlabelledtest__201106111419.wav to Aunlabelledtest__201106111419.wav\n",
            "Saving Aunlabelledtest__201106120928.wav to Aunlabelledtest__201106120928.wav\n",
            "Saving Aunlabelledtest__201106130440.wav to Aunlabelledtest__201106130440.wav\n",
            "Saving Aunlabelledtest__201106150614.wav to Aunlabelledtest__201106150614.wav\n",
            "Saving Aunlabelledtest__201106170857.wav to Aunlabelledtest__201106170857.wav\n",
            "Saving Aunlabelledtest__201106171155.wav to Aunlabelledtest__201106171155.wav\n",
            "Saving Aunlabelledtest__201106191034.wav to Aunlabelledtest__201106191034.wav\n",
            "Saving Aunlabelledtest__201106211725.wav to Aunlabelledtest__201106211725.wav\n",
            "Saving Aunlabelledtest__201106212102.wav to Aunlabelledtest__201106212102.wav\n",
            "Saving Aunlabelledtest__201108011111.wav to Aunlabelledtest__201108011111.wav\n",
            "Saving Aunlabelledtest__201108011113.wav to Aunlabelledtest__201108011113.wav\n",
            "Saving Aunlabelledtest__201108011116.wav to Aunlabelledtest__201108011116.wav\n",
            "Saving Aunlabelledtest__201108011117.wav to Aunlabelledtest__201108011117.wav\n",
            "Saving Aunlabelledtest__201108222222.wav to Aunlabelledtest__201108222222.wav\n",
            "Saving Aunlabelledtest__201108222225.wav to Aunlabelledtest__201108222225.wav\n",
            "Saving Aunlabelledtest__201108222228.wav to Aunlabelledtest__201108222228.wav\n",
            "Saving Aunlabelledtest__201108222234.wav to Aunlabelledtest__201108222234.wav\n",
            "Saving Aunlabelledtest__201108222241.wav to Aunlabelledtest__201108222241.wav\n",
            "Saving Aunlabelledtest__201108222244.wav to Aunlabelledtest__201108222244.wav\n",
            "Saving Aunlabelledtest__201108222247.wav to Aunlabelledtest__201108222247.wav\n",
            "Saving Aunlabelledtest__201108222254.wav to Aunlabelledtest__201108222254.wav\n",
            "Saving Aunlabelledtest__201108222257.wav to Aunlabelledtest__201108222257.wav\n",
            "Saving extrahls__201101070953.wav to extrahls__201101070953.wav\n",
            "Saving extrahls__201101091153.wav to extrahls__201101091153.wav\n",
            "Saving extrahls__201101152255.wav to extrahls__201101152255.wav\n",
            "Saving extrahls__201101160804.wav to extrahls__201101160804.wav\n",
            "Saving extrahls__201101160808.wav to extrahls__201101160808.wav\n",
            "Saving extrahls__201101161027.wav to extrahls__201101161027.wav\n",
            "Saving extrahls__201101241423.wav to extrahls__201101241423.wav\n",
            "Saving extrahls__201101241433.wav to extrahls__201101241433.wav\n",
            "Saving extrahls__201102070251.wav to extrahls__201102070251.wav\n",
            "Saving extrahls__201102071835.wav to extrahls__201102071835.wav\n",
            "Saving extrahls__201102241217.wav to extrahls__201102241217.wav\n",
            "Saving extrahls__201103150114.wav to extrahls__201103150114.wav\n",
            "Saving extrahls__201103170134.wav to extrahls__201103170134.wav\n",
            "Saving extrahls__201103182227.wav to extrahls__201103182227.wav\n",
            "Saving extrahls__201103200218.wav to extrahls__201103200218.wav\n",
            "Saving extrahls__201104021355.wav to extrahls__201104021355.wav\n",
            "Saving extrahls__201104140118.wav to extrahls__201104140118.wav\n",
            "Saving extrahls__201104270458.wav to extrahls__201104270458.wav\n",
            "Saving extrahls__201104270459.wav to extrahls__201104270459.wav\n",
            "Saving murmur__201101051104.wav to murmur__201101051104.wav\n",
            "Saving murmur__201101051108.wav to murmur__201101051108.wav\n",
            "Saving murmur__201101051114.wav to murmur__201101051114.wav\n",
            "Saving murmur__201101180902.wav to murmur__201101180902.wav\n",
            "Saving murmur__201102051443.wav to murmur__201102051443.wav\n",
            "Saving murmur__201102052338.wav to murmur__201102052338.wav\n",
            "Saving murmur__201103291548.wav to murmur__201103291548.wav\n",
            "Saving murmur__201104021355.wav to murmur__201104021355.wav\n",
            "Saving murmur__201104241315.wav to murmur__201104241315.wav\n",
            "Saving murmur__201104291843.wav to murmur__201104291843.wav\n",
            "Saving murmur__201106141148.wav to murmur__201106141148.wav\n",
            "Saving murmur__201108222221.wav to murmur__201108222221.wav\n",
            "Saving murmur__201108222223.wav to murmur__201108222223.wav\n",
            "Saving murmur__201108222224.wav to murmur__201108222224.wav\n",
            "Saving murmur__201108222226.wav to murmur__201108222226.wav\n",
            "Saving murmur__201108222227.wav to murmur__201108222227.wav\n",
            "Saving murmur__201108222231.wav to murmur__201108222231.wav\n",
            "Saving murmur__201108222232.wav to murmur__201108222232.wav\n",
            "Saving murmur__201108222233.wav to murmur__201108222233.wav\n",
            "Saving murmur__201108222235.wav to murmur__201108222235.wav\n",
            "Saving murmur__201108222236.wav to murmur__201108222236.wav\n",
            "Saving murmur__201108222237.wav to murmur__201108222237.wav\n",
            "Saving murmur__201108222238.wav to murmur__201108222238.wav\n",
            "Saving murmur__201108222242.wav to murmur__201108222242.wav\n",
            "Saving murmur__201108222243.wav to murmur__201108222243.wav\n",
            "Saving murmur__201108222245.wav to murmur__201108222245.wav\n",
            "Saving murmur__201108222246.wav to murmur__201108222246.wav\n",
            "Saving murmur__201108222248.wav to murmur__201108222248.wav\n",
            "Saving murmur__201108222251.wav to murmur__201108222251.wav\n",
            "Saving murmur__201108222252.wav to murmur__201108222252.wav\n",
            "Saving murmur__201108222253.wav to murmur__201108222253.wav\n",
            "Saving murmur__201108222255.wav to murmur__201108222255.wav\n",
            "Saving murmur__201108222256.wav to murmur__201108222256.wav\n",
            "Saving murmur__201108222258.wav to murmur__201108222258.wav\n",
            "Saving normal__201101070538.wav to normal__201101070538.wav\n",
            "Saving normal__201101151127.wav to normal__201101151127.wav\n",
            "Saving normal__201102081152.wav to normal__201102081152.wav\n",
            "Saving normal__201102081321.wav to normal__201102081321.wav\n",
            "Saving normal__201102201230.wav to normal__201102201230.wav\n",
            "Saving normal__201102260502.wav to normal__201102260502.wav\n",
            "Saving normal__201102270940.wav to normal__201102270940.wav\n",
            "Saving normal__201103090635.wav to normal__201103090635.wav\n",
            "Saving normal__201103101140.wav to normal__201103101140.wav\n",
            "Saving normal__201103140132.wav to normal__201103140132.wav\n",
            "Saving normal__201103140135.wav to normal__201103140135.wav\n",
            "Saving normal__201103140822.wav to normal__201103140822.wav\n",
            "Saving normal__201103151912.wav to normal__201103151912.wav\n",
            "Saving normal__201103170121.wav to normal__201103170121.wav\n",
            "Saving normal__201103221214.wav to normal__201103221214.wav\n",
            "Saving normal__201104122156.wav to normal__201104122156.wav\n",
            "Saving normal__201104141251.wav to normal__201104141251.wav\n",
            "Saving normal__201105011626.wav to normal__201105011626.wav\n",
            "Saving normal__201105021654.wav to normal__201105021654.wav\n",
            "Saving normal__201105021804.wav to normal__201105021804.wav\n",
            "Saving normal__201105151450.wav to normal__201105151450.wav\n",
            "Saving normal__201106111136.wav to normal__201106111136.wav\n",
            "Saving normal__201106141148.wav to normal__201106141148.wav\n",
            "Saving normal__201106151236.wav to normal__201106151236.wav\n",
            "Saving normal__201106210943.wav to normal__201106210943.wav\n",
            "Saving normal__201106221418.wav to normal__201106221418.wav\n",
            "Saving normal__201106221450.wav to normal__201106221450.wav\n",
            "Saving normal__201108011112.wav to normal__201108011112.wav\n",
            "Saving normal__201108011114.wav to normal__201108011114.wav\n",
            "Saving normal__201108011115.wav to normal__201108011115.wav\n",
            "Saving normal__201108011118.wav to normal__201108011118.wav\n"
          ],
          "name": "stdout"
        }
      ]
    },
    {
      "cell_type": "code",
      "metadata": {
        "id": "AOaoPFU75fjd",
        "colab_type": "code",
        "colab": {}
      },
      "source": [
        ""
      ],
      "execution_count": 0,
      "outputs": []
    },
    {
      "cell_type": "code",
      "metadata": {
        "id": "Y5IXoPnB4EDb",
        "colab_type": "code",
        "colab": {
          "base_uri": "https://localhost:8080/",
          "height": 51
        },
        "outputId": "4524c228-c00f-4d53-ea51-fc20544b5084"
      },
      "source": [
        "%%time\n",
        "dataset = []\n",
        "for folder in [\"../input/set_a/**\",\"../input/set_b/**\"]:\n",
        "    for filename in glob.iglob(folder):\n",
        "        if os.path.exists(filename):\n",
        "            label = os.path.basename(filename).split(\"_\")[0]\n",
        "            # skip audio smaller than 4 secs\n",
        "            if librosa.get_duration(filename=filename)>=4:\n",
        "                if label not in [\"Aunlabelledtest\", \"Bunlabelledtest\"]:\n",
        "                    dataset.append({\n",
        "                        \"filename\": filename,\n",
        "                        \"label\": label\n",
        "                    })\n",
        "dataset = pd.DataFrame(dataset)\n",
        "dataset = shuffle(dataset, random_state=42)"
      ],
      "execution_count": 4,
      "outputs": [
        {
          "output_type": "stream",
          "text": [
            "CPU times: user 2.14 ms, sys: 24 µs, total: 2.16 ms\n",
            "Wall time: 2.3 ms\n"
          ],
          "name": "stdout"
        }
      ]
    },
    {
      "cell_type": "code",
      "metadata": {
        "id": "TBZWg18V4Lqs",
        "colab_type": "code",
        "colab": {
          "base_uri": "https://localhost:8080/",
          "height": 68
        },
        "outputId": "51359997-ed07-42f1-a2f2-e258a5b1f129"
      },
      "source": [
        "dataset.info()"
      ],
      "execution_count": 5,
      "outputs": [
        {
          "output_type": "stream",
          "text": [
            "<class 'pandas.core.frame.DataFrame'>\n",
            "Index: 0 entries\n",
            "Empty DataFrame"
          ],
          "name": "stdout"
        }
      ]
    }
  ]
}